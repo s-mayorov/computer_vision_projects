{
 "cells": [
  {
   "cell_type": "code",
   "execution_count": 1,
   "metadata": {},
   "outputs": [
    {
     "output_type": "stream",
     "name": "stdout",
     "text": "[PhysicalDevice(name='/physical_device:GPU:0', device_type='GPU')]\n1 Physical GPUs, 1 Logical GPUs\n"
    }
   ],
   "source": [
    "import tensorflow as tf\n",
    "gpus = tf.config.experimental.list_physical_devices('GPU')\n",
    "print(gpus)\n",
    "if gpus:\n",
    "  try:\n",
    "    # Currently, memory growth needs to be the same across GPUs\n",
    "    for gpu in gpus:\n",
    "      tf.config.experimental.set_memory_growth(gpu, True)\n",
    "    logical_gpus = tf.config.experimental.list_logical_devices('GPU')\n",
    "    print(len(gpus), \"Physical GPUs,\", len(logical_gpus), \"Logical GPUs\")\n",
    "  except RuntimeError as e:\n",
    "    # Memory growth must be set before GPUs have been initialized\n",
    "    print(e)\n"
   ]
  },
  {
   "cell_type": "code",
   "execution_count": 2,
   "metadata": {},
   "outputs": [
    {
     "output_type": "stream",
     "name": "stdout",
     "text": "Num GPUs Available:  1\n"
    }
   ],
   "source": [
    "import tensorflow as tf\n",
    "print(\"Num GPUs Available: \", len(tf.config.experimental.list_physical_devices('GPU')))"
   ]
  },
  {
   "cell_type": "code",
   "execution_count": 3,
   "metadata": {},
   "outputs": [
    {
     "output_type": "stream",
     "name": "stderr",
     "text": "Using TensorFlow backend.\n"
    }
   ],
   "source": [
    "from keras.datasets import cifar10\n",
    "from keras.models import Sequential\n",
    "from keras.layers import Conv2D, MaxPool2D, Dense, Flatten, Dropout, BatchNormalization, Activation, ZeroPadding2D\n",
    "from keras.utils import to_categorical\n",
    "from keras.regularizers import l2\n",
    "from keras.optimizers import Adadelta\n",
    "\n",
    "num_classes = 10\n",
    "(x_train, y_train), (x_test, y_test) = cifar10.load_data()\n",
    "\n",
    "y_train = to_categorical(y_train, num_classes)\n",
    "y_test = to_categorical(y_test, num_classes)"
   ]
  },
  {
   "cell_type": "code",
   "execution_count": 4,
   "metadata": {},
   "outputs": [
    {
     "output_type": "stream",
     "name": "stdout",
     "text": "Model: \"sequential_1\"\n_________________________________________________________________\nLayer (type)                 Output Shape              Param #   \n=================================================================\nconv2d_1 (Conv2D)            (None, 32, 32, 96)        34944     \n_________________________________________________________________\nbatch_normalization_1 (Batch (None, 32, 32, 96)        384       \n_________________________________________________________________\nactivation_1 (Activation)    (None, 32, 32, 96)        0         \n_________________________________________________________________\nmax_pooling2d_1 (MaxPooling2 (None, 16, 16, 96)        0         \n_________________________________________________________________\nconv2d_2 (Conv2D)            (None, 16, 16, 256)       614656    \n_________________________________________________________________\nbatch_normalization_2 (Batch (None, 16, 16, 256)       1024      \n_________________________________________________________________\nactivation_2 (Activation)    (None, 16, 16, 256)       0         \n_________________________________________________________________\nmax_pooling2d_2 (MaxPooling2 (None, 8, 8, 256)         0         \n_________________________________________________________________\nzero_padding2d_1 (ZeroPaddin (None, 10, 10, 256)       0         \n_________________________________________________________________\nconv2d_3 (Conv2D)            (None, 10, 10, 512)       1180160   \n_________________________________________________________________\nbatch_normalization_3 (Batch (None, 10, 10, 512)       2048      \n_________________________________________________________________\nactivation_3 (Activation)    (None, 10, 10, 512)       0         \n_________________________________________________________________\nmax_pooling2d_3 (MaxPooling2 (None, 5, 5, 512)         0         \n_________________________________________________________________\nzero_padding2d_2 (ZeroPaddin (None, 7, 7, 512)         0         \n_________________________________________________________________\nconv2d_4 (Conv2D)            (None, 7, 7, 1024)        4719616   \n_________________________________________________________________\nbatch_normalization_4 (Batch (None, 7, 7, 1024)        4096      \n_________________________________________________________________\nactivation_4 (Activation)    (None, 7, 7, 1024)        0         \n_________________________________________________________________\nzero_padding2d_3 (ZeroPaddin (None, 9, 9, 1024)        0         \n_________________________________________________________________\nconv2d_5 (Conv2D)            (None, 9, 9, 1024)        9438208   \n_________________________________________________________________\nbatch_normalization_5 (Batch (None, 9, 9, 1024)        4096      \n_________________________________________________________________\nactivation_5 (Activation)    (None, 9, 9, 1024)        0         \n_________________________________________________________________\nmax_pooling2d_4 (MaxPooling2 (None, 4, 4, 1024)        0         \n_________________________________________________________________\nflatten_1 (Flatten)          (None, 16384)             0         \n_________________________________________________________________\ndense_1 (Dense)              (None, 3072)              50334720  \n_________________________________________________________________\nbatch_normalization_6 (Batch (None, 3072)              12288     \n_________________________________________________________________\nactivation_6 (Activation)    (None, 3072)              0         \n_________________________________________________________________\ndropout_1 (Dropout)          (None, 3072)              0         \n_________________________________________________________________\ndense_2 (Dense)              (None, 4096)              12587008  \n_________________________________________________________________\nbatch_normalization_7 (Batch (None, 4096)              16384     \n_________________________________________________________________\nactivation_7 (Activation)    (None, 4096)              0         \n_________________________________________________________________\ndropout_2 (Dropout)          (None, 4096)              0         \n_________________________________________________________________\ndense_3 (Dense)              (None, 10)                40970     \n_________________________________________________________________\nbatch_normalization_8 (Batch (None, 10)                40        \n_________________________________________________________________\nactivation_8 (Activation)    (None, 10)                0         \n=================================================================\nTotal params: 78,990,642\nTrainable params: 78,970,462\nNon-trainable params: 20,180\n_________________________________________________________________\nNone\n"
    }
   ],
   "source": [
    "model = Sequential()\n",
    "\n",
    "model.add(Conv2D(96, (11,11), input_shape=x_train.shape[1:], padding=\"same\", kernel_regularizer=l2(0)))\n",
    "model.add(BatchNormalization())\n",
    "model.add(Activation(\"relu\"))\n",
    "model.add(MaxPool2D(pool_size=(2,2)))\n",
    "\n",
    "model.add(Conv2D(256, (5,5), padding=\"same\"))\n",
    "model.add(BatchNormalization())\n",
    "model.add(Activation(\"relu\"))\n",
    "model.add(MaxPool2D(pool_size=(2,2)))\n",
    "\n",
    "model.add(ZeroPadding2D((1,1)))\n",
    "model.add(Conv2D(512, (3,3), padding=\"same\"))\n",
    "model.add(BatchNormalization())\n",
    "model.add(Activation(\"relu\"))\n",
    "model.add(MaxPool2D(pool_size=(2,2)))\n",
    "\n",
    "model.add(ZeroPadding2D((1,1)))\n",
    "model.add(Conv2D(1024, (3,3), padding=\"same\"))\n",
    "model.add(BatchNormalization())\n",
    "model.add(Activation(\"relu\"))\n",
    "\n",
    "model.add(ZeroPadding2D((1,1)))\n",
    "model.add(Conv2D(1024, (3,3), padding=\"same\"))\n",
    "model.add(BatchNormalization())\n",
    "model.add(Activation(\"relu\"))\n",
    "model.add(MaxPool2D(pool_size=(2,2)))\n",
    "\n",
    "model.add(Flatten())\n",
    "model.add(Dense(3072))\n",
    "model.add(BatchNormalization())\n",
    "model.add(Activation(\"relu\"))\n",
    "model.add(Dropout(rate=0.5))\n",
    "\n",
    "model.add(Dense(4096))\n",
    "model.add(BatchNormalization())\n",
    "model.add(Activation(\"relu\"))\n",
    "model.add(Dropout(rate=0.5))\n",
    "\n",
    "model.add(Dense(num_classes))\n",
    "model.add(BatchNormalization())\n",
    "model.add(Activation(\"softmax\"))\n",
    "\n",
    "print(model.summary())"
   ]
  },
  {
   "cell_type": "code",
   "execution_count": 5,
   "metadata": {},
   "outputs": [
    {
     "output_type": "stream",
     "name": "stdout",
     "text": "Train on 50000 samples, validate on 10000 samples\nEpoch 1/4\n50000/50000 [==============================] - 362s 7ms/step - loss: 1.5245 - accuracy: 0.4567 - val_loss: 1.3695 - val_accuracy: 0.5280\nEpoch 2/4\n50000/50000 [==============================] - 351s 7ms/step - loss: 1.1509 - accuracy: 0.6028 - val_loss: 1.1154 - val_accuracy: 0.6115\nEpoch 3/4\n50000/50000 [==============================] - 353s 7ms/step - loss: 0.9497 - accuracy: 0.6794 - val_loss: 1.0184 - val_accuracy: 0.6483\nEpoch 4/4\n50000/50000 [==============================] - 355s 7ms/step - loss: 0.8015 - accuracy: 0.7300 - val_loss: 0.8677 - val_accuracy: 0.7065\n"
    }
   ],
   "source": [
    "batch_size=16\n",
    "epochs = 4\n",
    "\n",
    "model.compile(loss=\"categorical_crossentropy\", optimizer=Adadelta(), metrics=[\"accuracy\"])\n",
    "history = model.fit(x_train, y_train, epochs=epochs, batch_size=batch_size, verbose=1, validation_data=(x_test,y_test), shuffle=True)"
   ]
  },
  {
   "cell_type": "code",
   "execution_count": 6,
   "metadata": {},
   "outputs": [
    {
     "output_type": "stream",
     "name": "stdout",
     "text": "10000/10000 [==============================] - 7s 719us/step\nTest loss  0.867741745185852\nTest acc  0.7064999938011169\n"
    }
   ],
   "source": [
    "score = model.evaluate(x_test, y_test)\n",
    "\n",
    "print(\"Test loss \", score[0])\n",
    "print(\"Test acc \", score[1] )"
   ]
  }
 ],
 "metadata": {
  "language_info": {
   "codemirror_mode": {
    "name": "ipython",
    "version": 3
   },
   "file_extension": ".py",
   "mimetype": "text/x-python",
   "name": "python",
   "nbconvert_exporter": "python",
   "pygments_lexer": "ipython3",
   "version": "3.6.10-final"
  },
  "orig_nbformat": 2,
  "kernelspec": {
   "name": "python38264bitaivenv4ccafea3a30e48ca8e165df5a9178abb",
   "display_name": "Python 3.8.2 64-bit ('ai': venv)"
  }
 },
 "nbformat": 4,
 "nbformat_minor": 2
}