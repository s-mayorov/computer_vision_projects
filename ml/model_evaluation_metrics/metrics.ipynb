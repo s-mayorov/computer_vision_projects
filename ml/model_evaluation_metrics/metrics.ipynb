{
 "cells": [
  {
   "cell_type": "markdown",
   "metadata": {},
   "source": [
    "# Метрики классификации\n",
    "\n",
    "## Confusion matrix\n",
    "\n",
    "Рассмотрим пример диагноза болезни\n",
    "\n",
    "|-------------|-**Diagnosed sick**--|-**Diagnosed healthy**--|\n",
    "\n",
    "\n",
    "\n",
    "|-**Sick**------|---True Positive----|-----False Negative-----|\n",
    "\n",
    "|-**Healthy**-|---False Positive---|-----True Negative------|\n",
    "\n",
    "\n",
    "### Type 1 and Type 2 Errors\n",
    "Sometimes in the literature, you'll see False Positives and False Negatives as Type 1 and Type 2 errors. Here is the correspondence:\n",
    "\n",
    "- Type 1 Error (Error of the first kind, or False Positive): In the medical example, this is when we misdiagnose a healthy patient as sick.\n",
    "- Type 2 Error (Error of the second kind, or False Negative): In the medical example, this is when we misdiagnose a sick patient as healthy.\n",
    "\n",
    "\n",
    "**Accuracy** = Correctly Classified points / All points;\n",
    "\n",
    "\n",
    "Accuracy не всегда полезно. Рассмотрим простой пример с мошенническими банковскими транзакциями, предположим, что у нас есть 284 335 нормальных транзакций и 472 - мошеннеческих и предположим так же, что наша модель считает все транзакции нормальными. По формуле Accuracy такой модели будет = 284335 / (284335 + 472) = 99.83% Великолепная точность для модели, которая пропустила все подозрительные операции. Очевидно, эта метрика не работает в таких ситуациях.\n",
    "\n",
    "Рассмотрим еще две ситуации - диагноз болезни и спам-детектор. Очевидно, что для медицинской модели нужно уменьшить количество False Negative (больны, но диагностированы как здоровые) и не обращать особого внимания на False Positive (здоровы, но диагностированы как больные и направлены на дополнительные тесты). С другой стороны, от спам-детектора требуется противоположного поведения: от него мы ждем упора на False Positive (плохо помечать хорошие письма как спам и терять их), но при этом можно не обращать особого внимания на False Positive (спам иногда может попадать в инбокс, ничего страшного). Первый тип задачи - аналог медицинского теста - называется **High Recall**; задачи, аналогичные спам-детектору, называются **High Precision**.\n",
    "\n",
    "- **Precision** - *Сколько из тех, кого мы отметили больными, на самом деле больны? Сколько из тех, что мы отметили спамом, на самом деле спам?* = True Positive / All Classified Positive = True Positive / (True Positive + False Positive) (первая колонка матрицы)\n",
    "- **Recall** - *Из всех больных, сколько мы правильно отметили больными? Из всего спама, сколько мы правильно пометили как спам?* = True Positive / All Positive = True Positive / (True Positive + False Negative) (первая строка матрицы)\n",
    "\n",
    "Чтобы не таскаться с этими двумя числами используют:\n",
    "**F1 score**: выражается формулой *Harmonic Mean* таким образом значение всегда ближе к меньшему члену. Сама формула F1 = (2 * Precision * Recall) / (Precision + Recall). Для примера с транзакциями: Precision = 100%, Recall = 0%, so F1 score = 0, что намного лучше отражает реальный результат работы модели.\n",
    "\n",
    "F1 это частный вид метрики и между Recall и Precision он примерно посередине. В общем виде формула F beta = ((1+beta^2) * Precision * Recall) / ( beta^2 * Precision + Recall). Для Recall моделей beta > 1; для Precision моделей beta < 1.\n",
    "\n",
    "Есть еще **ROC Curve**, чем ближе он к 1, тем лучше, плохой в районе 0.5.\n",
    "\n",
    "# Метрики регрессии\n",
    "\n",
    "- **MAE** - *mean absolute error* - средняя абсолютная ошибка, среднее расстояние между линией-моделью и точками\n",
    "- **MSE** - *mean squared error* - средняя квадратичная ошибка, то же самое, только берем квадраты, а не модули\n",
    "- **R2** - 1 - (единица минус) отношение квадратичных ошибок между расчитанной моделью и самой примитивной моделью (горизонтальной линией). Если отношение ошибок близко к 1, то модель примерно равна примитивной горизонтальной линии и фактически бесполезна, R2 в этом случае стремится к 0. Для хорошей модели отношение к примитивной будет очень маленьким, соответственно R2 будет стремиться к 1."
   ]
  }
 ],
 "metadata": {
  "kernelspec": {
   "display_name": "Python 3",
   "language": "python",
   "name": "python3"
  },
  "language_info": {
   "codemirror_mode": {
    "name": "ipython",
    "version": 3
   },
   "file_extension": ".py",
   "mimetype": "text/x-python",
   "name": "python",
   "nbconvert_exporter": "python",
   "pygments_lexer": "ipython3",
   "version": "3.5.2"
  }
 },
 "nbformat": 4,
 "nbformat_minor": 2
}
