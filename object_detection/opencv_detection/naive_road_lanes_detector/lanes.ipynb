{
 "nbformat": 4,
 "nbformat_minor": 2,
 "metadata": {
  "language_info": {
   "name": "python",
   "codemirror_mode": {
    "name": "ipython",
    "version": 3
   },
   "version": "3.6.8-final"
  },
  "orig_nbformat": 2,
  "file_extension": ".py",
  "mimetype": "text/x-python",
  "name": "python",
  "npconvert_exporter": "python",
  "pygments_lexer": "ipython3",
  "version": 3,
  "kernelspec": {
   "name": "python3",
   "display_name": "Python 3"
  }
 },
 "cells": [
  {
   "cell_type": "markdown",
   "metadata": {},
   "source": [
    "# Simple road lanes detector"
   ]
  },
  {
   "cell_type": "markdown",
   "metadata": {},
   "source": [
    "As always, importing important stuff"
   ]
  },
  {
   "cell_type": "code",
   "execution_count": 1,
   "metadata": {},
   "outputs": [],
   "source": [
    "import cv2 as cv\n",
    "import numpy as np\n",
    "import matplotlib.pyplot as plt"
   ]
  },
  {
   "cell_type": "markdown",
   "metadata": {},
   "source": [
    "We will detect lines with Canny algorithm, so let's define function with required preprocessing"
   ]
  },
  {
   "cell_type": "code",
   "execution_count": 2,
   "metadata": {},
   "outputs": [],
   "source": [
    "def canny(image):\n",
    "    grey = cv.cvtColor(image, cv.COLOR_RGB2GRAY)\n",
    "    blur = cv.GaussianBlur(grey, (5, 5), 0)\n",
    "    canny = cv.Canny(blur, 50, 150)\n",
    "    return canny"
   ]
  },
  {
   "cell_type": "markdown",
   "metadata": {},
   "source": [
    "We have well defined ROI - triangle of road in the middle of frame. All other image part is noise for this task"
   ]
  },
  {
   "cell_type": "code",
   "execution_count": 3,
   "metadata": {},
   "outputs": [],
   "source": [
    "def region_of_interest(image):\n",
    "    height = image.shape[0]\n",
    "    triangle = np.array([[(200, height), (1100, height), (550, 250)]])\n",
    "    mask = np.zeros_like(image)\n",
    "    cv.fillPoly(mask, triangle, 255)\n",
    "    masked_image = cv.bitwise_and(image, mask)\n",
    "    return masked_image"
   ]
  },
  {
   "cell_type": "markdown",
   "metadata": {},
   "source": [
    "Helper function for averaging detected lines in one line"
   ]
  },
  {
   "cell_type": "code",
   "execution_count": 4,
   "metadata": {},
   "outputs": [],
   "source": [
    "def average_slope_intercept(image, lines):\n",
    "    left_fit = []\n",
    "    right_fit = []\n",
    "    if not lines is None:\n",
    "        for line in lines:\n",
    "            x1, y1, x2, y2 = line.reshape(4)\n",
    "            parameters = np.polyfit((x1, x2), (y1, y2), 1)\n",
    "            slope = parameters[0]\n",
    "            intercept = parameters[1]\n",
    "            if slope < 0:\n",
    "                left_fit.append((slope, intercept))\n",
    "            else:\n",
    "                right_fit.append((slope, intercept))\n",
    "        left_fit_average = np.average(left_fit, axis=0)\n",
    "        right_fit_average = np.average(right_fit, axis=0)\n",
    "        left_line = make_coordinates(image, left_fit_average)\n",
    "        right_line = make_coordinates(image, right_fit_average)\n",
    "    return np.array([left_line, right_line])"
   ]
  },
  {
   "cell_type": "markdown",
   "metadata": {},
   "source": [
    "And some more helpers for displaying and positioning stuff"
   ]
  },
  {
   "cell_type": "code",
   "execution_count": 7,
   "metadata": {},
   "outputs": [],
   "source": [
    "def display_lines(image, lines):\n",
    "    line_image = np.zeros_like(image)\n",
    "    if lines is not None:\n",
    "        for x1, y1, x2, y2 in lines:\n",
    "            cv.line(line_image, (x1, y1), (x2,y2), (255,0,0), 10)\n",
    "    return line_image\n",
    "\n",
    "def make_coordinates(image, line_parameters):\n",
    "    slope, intercept = line_parameters\n",
    "    # make our averaged lines from bottom of image...\n",
    "    y1 = image.shape[0]\n",
    "    # ...to 3/5 of image vertically\n",
    "    y2 = int(y1*(3/5))\n",
    "    # and find corresponding x-es\n",
    "    # consider y = a*x+b, x = (y-b)/a\n",
    "    x1 = int((y1-intercept)/slope)\n",
    "    x2 = int((y2-intercept)/slope)\n",
    "    return np.array([x1, y1, x2, y2])\n"
   ]
  },
  {
   "cell_type": "markdown",
   "metadata": {},
   "source": [
    "Apply all this to video stream"
   ]
  },
  {
   "cell_type": "code",
   "execution_count": 8,
   "metadata": {},
   "outputs": [
    {
     "ename": "TypeError",
     "evalue": "'NoneType' object is not iterable",
     "output_type": "error",
     "traceback": [
      "\u001b[0;31m---------------------------------------------------------------------------\u001b[0m",
      "\u001b[0;31mTypeError\u001b[0m                                 Traceback (most recent call last)",
      "\u001b[0;32m<ipython-input-8-00a2f7b6d7d0>\u001b[0m in \u001b[0;36m<module>\u001b[0;34m\u001b[0m\n\u001b[1;32m      7\u001b[0m                         np.array([]), minLineLength=40, maxLineGap=5)\n\u001b[1;32m      8\u001b[0m     \u001b[0maveraged_lines\u001b[0m \u001b[0;34m=\u001b[0m \u001b[0maverage_slope_intercept\u001b[0m\u001b[0;34m(\u001b[0m\u001b[0mframe\u001b[0m\u001b[0;34m,\u001b[0m \u001b[0mlines\u001b[0m\u001b[0;34m)\u001b[0m\u001b[0;34m\u001b[0m\u001b[0;34m\u001b[0m\u001b[0m\n\u001b[0;32m----> 9\u001b[0;31m     \u001b[0mline_image\u001b[0m \u001b[0;34m=\u001b[0m \u001b[0mdisplay_lines\u001b[0m\u001b[0;34m(\u001b[0m\u001b[0mframe\u001b[0m\u001b[0;34m,\u001b[0m \u001b[0maveraged_lines\u001b[0m\u001b[0;34m)\u001b[0m\u001b[0;34m\u001b[0m\u001b[0;34m\u001b[0m\u001b[0m\n\u001b[0m\u001b[1;32m     10\u001b[0m     \u001b[0mcombo_image\u001b[0m \u001b[0;34m=\u001b[0m \u001b[0mcv\u001b[0m\u001b[0;34m.\u001b[0m\u001b[0maddWeighted\u001b[0m\u001b[0;34m(\u001b[0m\u001b[0mframe\u001b[0m\u001b[0;34m,\u001b[0m \u001b[0;36m0.8\u001b[0m\u001b[0;34m,\u001b[0m \u001b[0mline_image\u001b[0m\u001b[0;34m,\u001b[0m \u001b[0;36m1\u001b[0m\u001b[0;34m,\u001b[0m \u001b[0;36m1\u001b[0m\u001b[0;34m)\u001b[0m\u001b[0;34m\u001b[0m\u001b[0;34m\u001b[0m\u001b[0m\n\u001b[1;32m     11\u001b[0m \u001b[0;34m\u001b[0m\u001b[0m\n",
      "\u001b[0;32m<ipython-input-7-fa8c3fb34b72>\u001b[0m in \u001b[0;36mdisplay_lines\u001b[0;34m(image, lines)\u001b[0m\n\u001b[1;32m      2\u001b[0m     \u001b[0mline_image\u001b[0m \u001b[0;34m=\u001b[0m \u001b[0mnp\u001b[0m\u001b[0;34m.\u001b[0m\u001b[0mzeros_like\u001b[0m\u001b[0;34m(\u001b[0m\u001b[0mimage\u001b[0m\u001b[0;34m)\u001b[0m\u001b[0;34m\u001b[0m\u001b[0;34m\u001b[0m\u001b[0m\n\u001b[1;32m      3\u001b[0m     \u001b[0;32mif\u001b[0m \u001b[0mlines\u001b[0m \u001b[0;32mis\u001b[0m \u001b[0;32mnot\u001b[0m \u001b[0;32mNone\u001b[0m\u001b[0;34m:\u001b[0m\u001b[0;34m\u001b[0m\u001b[0;34m\u001b[0m\u001b[0m\n\u001b[0;32m----> 4\u001b[0;31m         \u001b[0;32mfor\u001b[0m \u001b[0mx1\u001b[0m\u001b[0;34m,\u001b[0m \u001b[0my1\u001b[0m\u001b[0;34m,\u001b[0m \u001b[0mx2\u001b[0m\u001b[0;34m,\u001b[0m \u001b[0my2\u001b[0m \u001b[0;32min\u001b[0m \u001b[0mlines\u001b[0m\u001b[0;34m:\u001b[0m\u001b[0;34m\u001b[0m\u001b[0;34m\u001b[0m\u001b[0m\n\u001b[0m\u001b[1;32m      5\u001b[0m             \u001b[0mcv\u001b[0m\u001b[0;34m.\u001b[0m\u001b[0mline\u001b[0m\u001b[0;34m(\u001b[0m\u001b[0mline_image\u001b[0m\u001b[0;34m,\u001b[0m \u001b[0;34m(\u001b[0m\u001b[0mx1\u001b[0m\u001b[0;34m,\u001b[0m \u001b[0my1\u001b[0m\u001b[0;34m)\u001b[0m\u001b[0;34m,\u001b[0m \u001b[0;34m(\u001b[0m\u001b[0mx2\u001b[0m\u001b[0;34m,\u001b[0m\u001b[0my2\u001b[0m\u001b[0;34m)\u001b[0m\u001b[0;34m,\u001b[0m \u001b[0;34m(\u001b[0m\u001b[0;36m255\u001b[0m\u001b[0;34m,\u001b[0m\u001b[0;36m0\u001b[0m\u001b[0;34m,\u001b[0m\u001b[0;36m0\u001b[0m\u001b[0;34m)\u001b[0m\u001b[0;34m,\u001b[0m \u001b[0;36m10\u001b[0m\u001b[0;34m)\u001b[0m\u001b[0;34m\u001b[0m\u001b[0;34m\u001b[0m\u001b[0m\n\u001b[1;32m      6\u001b[0m     \u001b[0;32mreturn\u001b[0m \u001b[0mline_image\u001b[0m\u001b[0;34m\u001b[0m\u001b[0;34m\u001b[0m\u001b[0m\n",
      "\u001b[0;31mTypeError\u001b[0m: 'NoneType' object is not iterable"
     ]
    }
   ],
   "source": [
    "cap = cv.VideoCapture(\"test2.mp4\")\n",
    "while(cap.isOpened):\n",
    "    ret, frame = cap.read()\n",
    "    canny_image = canny(frame)\n",
    "    cropped_image = region_of_interest(canny_image)\n",
    "    lines = cv.HoughLinesP(cropped_image, 2, np.pi/180, 100,\n",
    "                        np.array([]), minLineLength=40, maxLineGap=5)\n",
    "    averaged_lines = average_slope_intercept(frame, lines)\n",
    "    line_image = display_lines(frame, averaged_lines)\n",
    "    combo_image = cv.addWeighted(frame, 0.8, line_image, 1, 1)\n",
    "\n",
    "    cv.imshow(\"canny\", combo_image)\n",
    "    if cv.waitKey(1) & 0xFF == ord('q'):\n",
    "        break\n",
    "cap.release()\n",
    "cv.destroyAllWindows()"
   ]
  },
  {
   "cell_type": "code",
   "execution_count": null,
   "metadata": {},
   "outputs": [],
   "source": []
  }
 ]
}