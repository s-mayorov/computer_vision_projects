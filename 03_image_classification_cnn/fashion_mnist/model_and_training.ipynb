{
 "cells": [
  {
   "cell_type": "code",
   "execution_count": 1,
   "metadata": {},
   "outputs": [],
   "source": [
    "import torch\n",
    "import torchvision\n",
    "from torch.optim import Adam"
   ]
  },
  {
   "cell_type": "code",
   "execution_count": 2,
   "metadata": {},
   "outputs": [],
   "source": [
    "device = torch.device(\"cuda:0\" if torch.cuda.is_available() else \"cpu\")"
   ]
  },
  {
   "cell_type": "code",
   "execution_count": 3,
   "metadata": {},
   "outputs": [],
   "source": [
    "train_data = torchvision.datasets.FashionMNIST(\"./data/\", train=True, transform=torchvision.transforms.ToTensor(), download=True)\n",
    "train_loader = torch.utils.data.DataLoader(train_data, batch_size=10, shuffle=True)"
   ]
  },
  {
   "cell_type": "code",
   "execution_count": 4,
   "metadata": {},
   "outputs": [],
   "source": [
    "test_data = torchvision.datasets.FashionMNIST(\"./data/\", transform=torchvision.transforms.ToTensor(), download=True)\n",
    "test_loader = torch.utils.data.DataLoader(test_data, batch_size=10, shuffle=True)"
   ]
  },
  {
   "cell_type": "code",
   "execution_count": 10,
   "metadata": {},
   "outputs": [
    {
     "output_type": "execute_result",
     "data": {
      "text/plain": "Net(\n  (conv1): Conv2d(1, 16, kernel_size=(5, 5), stride=(1, 1), padding=(2, 2))\n  (conv2): Conv2d(16, 32, kernel_size=(5, 5), stride=(1, 1), padding=(2, 2))\n  (bn1): BatchNorm2d(16, eps=1e-05, momentum=0.1, affine=True, track_running_stats=True)\n  (bn2): BatchNorm2d(32, eps=1e-05, momentum=0.1, affine=True, track_running_stats=True)\n  (pool): MaxPool2d(kernel_size=2, stride=2, padding=0, dilation=1, ceil_mode=False)\n  (fc1): Linear(in_features=1568, out_features=600, bias=True)\n  (fc1_drop): Dropout(p=0.4, inplace=False)\n  (fc2): Linear(in_features=600, out_features=10, bias=True)\n)"
     },
     "metadata": {},
     "execution_count": 10
    }
   ],
   "source": [
    "class Net(torch.nn.Module):\n",
    "    def __init__(self):\n",
    "        super(Net, self).__init__()\n",
    "        \n",
    "        self.conv1 = torch.nn.Conv2d(1, 16, 5, padding=2)\n",
    "        self.conv2 = torch.nn.Conv2d(16, 32, 5, padding=2)\n",
    "        self.act = torch.functional.F.relu\n",
    "        self.bn1 = torch.nn.BatchNorm2d(16)\n",
    "        self.bn2 = torch.nn.BatchNorm2d(32)\n",
    "        self.pool = torch.nn.MaxPool2d(2,2)\n",
    "        self.fc1 = torch.nn.Linear(49*32, 600)\n",
    "        self.fc1_drop = torch.nn.Dropout(p=0.4)\n",
    "        self.fc2 = torch.nn.Linear(600, 10)\n",
    "        \n",
    "    def forward(self, x):\n",
    "        x = self.pool(self.act(self.bn1(self.conv1(x))))\n",
    "        x = self.pool(self.act(self.bn2(self.conv2(x))))\n",
    "        x = x.view(x.size(0), -1)\n",
    "        x = self.act(self.fc1(x))\n",
    "        x = self.fc1_drop(x)\n",
    "        x = self.fc2(x)\n",
    "        return x\n",
    "    \n",
    "net = Net()\n",
    "net.to(device)"
   ]
  },
  {
   "cell_type": "code",
   "execution_count": 11,
   "metadata": {},
   "outputs": [],
   "source": [
    "criterion = torch.nn.CrossEntropyLoss()\n",
    "optimizer = Adam(net.parameters(), lr=0.001)"
   ]
  },
  {
   "cell_type": "code",
   "execution_count": 12,
   "metadata": {
    "tags": [
     "outputPrepend",
     "outputPrepend",
     "outputPrepend",
     "outputPrepend",
     "outputPrepend",
     "outputPrepend",
     "outputPrepend",
     "outputPrepend",
     "outputPrepend",
     "outputPrepend",
     "outputPrepend",
     "outputPrepend",
     "outputPrepend",
     "outputPrepend",
     "outputPrepend",
     "outputPrepend",
     "outputPrepend",
     "outputPrepend",
     "outputPrepend",
     "outputPrepend",
     "outputPrepend",
     "outputPrepend",
     "outputPrepend",
     "outputPrepend",
     "outputPrepend",
     "outputPrepend",
     "outputPrepend",
     "outputPrepend",
     "outputPrepend",
     "outputPrepend",
     "outputPrepend",
     "outputPrepend",
     "outputPrepend",
     "outputPrepend",
     "outputPrepend",
     "outputPrepend",
     "outputPrepend",
     "outputPrepend"
    ]
   },
   "outputs": [
    {
     "output_type": "stream",
     "name": "stdout",
     "text": "Epoch 0\tBatch 0\tAvg loss 0.00227469277381897\nEpoch 0\tBatch 1000\tAvg loss 0.6677938705049455\nEpoch 0\tBatch 2000\tAvg loss 0.4537099851053208\nEpoch 0\tBatch 3000\tAvg loss 0.41379839173331856\nEpoch 0\tBatch 4000\tAvg loss 0.3687911455221474\nEpoch 0\tBatch 5000\tAvg loss 0.35322407259326427\nEpoch 1\tBatch 0\tAvg loss 0.0002069956064224243\nEpoch 1\tBatch 1000\tAvg loss 0.312706984161865\nEpoch 1\tBatch 2000\tAvg loss 0.3057110340252984\nEpoch 1\tBatch 3000\tAvg loss 0.3011418948993087\nEpoch 1\tBatch 4000\tAvg loss 0.29454160649422556\nEpoch 1\tBatch 5000\tAvg loss 0.2944466896709055\nEpoch 2\tBatch 0\tAvg loss 0.00030434852838516236\nEpoch 2\tBatch 1000\tAvg loss 0.26082843192172006\nEpoch 2\tBatch 2000\tAvg loss 0.25289026927569647\nEpoch 2\tBatch 3000\tAvg loss 0.24813144108647248\nEpoch 2\tBatch 4000\tAvg loss 0.26281130335037595\nEpoch 2\tBatch 5000\tAvg loss 0.25187697855115404\nEpoch 3\tBatch 0\tAvg loss 0.0006295552849769592\nEpoch 3\tBatch 1000\tAvg loss 0.22711684453912312\nEpoch 3\tBatch 2000\tAvg loss 0.22272300871532935\nEpoch 3\tBatch 3000\tAvg loss 0.22200342414071747\nEpoch 3\tBatch 4000\tAvg loss 0.23695543139055372\nEpoch 3\tBatch 5000\tAvg loss 0.23959188509359955\nEpoch 4\tBatch 0\tAvg loss 8.204271644353866e-05\nEpoch 4\tBatch 1000\tAvg loss 0.19643733633783994\nEpoch 4\tBatch 2000\tAvg loss 0.2029492382640601\nEpoch 4\tBatch 3000\tAvg loss 0.20002956248130066\nEpoch 4\tBatch 4000\tAvg loss 0.21917487028072355\nEpoch 4\tBatch 5000\tAvg loss 0.21864609088005818\nEpoch 5\tBatch 0\tAvg loss 0.0001120416522026062\nEpoch 5\tBatch 1000\tAvg loss 0.1771525781094533\nEpoch 5\tBatch 2000\tAvg loss 0.19045289118163056\nEpoch 5\tBatch 3000\tAvg loss 0.19953014204055217\nEpoch 5\tBatch 4000\tAvg loss 0.1926960698241892\nEpoch 5\tBatch 5000\tAvg loss 0.19238519394500325\nEpoch 6\tBatch 0\tAvg loss 0.00030318140983581543\nEpoch 6\tBatch 1000\tAvg loss 0.1722066017267648\nEpoch 6\tBatch 2000\tAvg loss 0.17197108819651474\nEpoch 6\tBatch 3000\tAvg loss 0.17589113237839774\nEpoch 6\tBatch 4000\tAvg loss 0.1778469364169432\nEpoch 6\tBatch 5000\tAvg loss 0.1725816541807144\nEpoch 7\tBatch 0\tAvg loss 0.00015755638480186463\nEpoch 7\tBatch 1000\tAvg loss 0.14256315492507565\nEpoch 7\tBatch 2000\tAvg loss 0.16472373691988468\nEpoch 7\tBatch 3000\tAvg loss 0.16385746382302932\nEpoch 7\tBatch 4000\tAvg loss 0.15716545230085466\nEpoch 7\tBatch 5000\tAvg loss 0.17658559512652572\nEpoch 8\tBatch 0\tAvg loss 0.00021790747344493865\nEpoch 8\tBatch 1000\tAvg loss 0.1325273524743925\nEpoch 8\tBatch 2000\tAvg loss 0.15116208673246911\nEpoch 8\tBatch 3000\tAvg loss 0.15360510927599172\nEpoch 8\tBatch 4000\tAvg loss 0.1550651856019722\nEpoch 8\tBatch 5000\tAvg loss 0.155909892492964\nEpoch 9\tBatch 0\tAvg loss 0.0004075600504875183\nEpoch 9\tBatch 1000\tAvg loss 0.12275842491318349\nEpoch 9\tBatch 2000\tAvg loss 0.1332614234875823\nEpoch 9\tBatch 3000\tAvg loss 0.14150611144067807\nEpoch 9\tBatch 4000\tAvg loss 0.14441935088955324\nEpoch 9\tBatch 5000\tAvg loss 0.1504663410620051\nEpoch 10\tBatch 0\tAvg loss 8.789193816483021e-06\nEpoch 10\tBatch 1000\tAvg loss 0.11290535948658226\nEpoch 10\tBatch 2000\tAvg loss 0.12691790128330832\nEpoch 10\tBatch 3000\tAvg loss 0.13439165870203426\nEpoch 10\tBatch 4000\tAvg loss 0.1225768160155144\nEpoch 10\tBatch 5000\tAvg loss 0.13835854102418557\nEpoch 11\tBatch 0\tAvg loss 7.306456565856933e-06\nEpoch 11\tBatch 1000\tAvg loss 0.1136853853666629\nEpoch 11\tBatch 2000\tAvg loss 0.12494737956348399\nEpoch 11\tBatch 3000\tAvg loss 0.12662138635493295\nEpoch 11\tBatch 4000\tAvg loss 0.1279625694525864\nEpoch 11\tBatch 5000\tAvg loss 0.13233475864067076\nEpoch 12\tBatch 0\tAvg loss 0.00010042470693588257\nEpoch 12\tBatch 1000\tAvg loss 0.10939513928914311\nEpoch 12\tBatch 2000\tAvg loss 0.11546910379445034\nEpoch 12\tBatch 3000\tAvg loss 0.12180147713303777\nEpoch 12\tBatch 4000\tAvg loss 0.12305207045835607\nEpoch 12\tBatch 5000\tAvg loss 0.12358746865295779\nEpoch 13\tBatch 0\tAvg loss 0.0001495731770992279\nEpoch 13\tBatch 1000\tAvg loss 0.09679230473407818\nEpoch 13\tBatch 2000\tAvg loss 0.1111468363064534\nEpoch 13\tBatch 3000\tAvg loss 0.1021365046528891\nEpoch 13\tBatch 4000\tAvg loss 0.11216805463502615\nEpoch 13\tBatch 5000\tAvg loss 0.11161222875837518\nEpoch 14\tBatch 0\tAvg loss 1.5899157151579857e-05\nEpoch 14\tBatch 1000\tAvg loss 0.09084824464267342\nEpoch 14\tBatch 2000\tAvg loss 0.10321546115622186\nEpoch 14\tBatch 3000\tAvg loss 0.10440903733340073\nEpoch 14\tBatch 4000\tAvg loss 0.10695798377072623\nEpoch 14\tBatch 5000\tAvg loss 0.11509891206662815\n"
    }
   ],
   "source": [
    "avg_acc = []\n",
    "test_acc = []\n",
    "\n",
    "for epoch in range(15):\n",
    "    running_loss = 0.0\n",
    "    for i, data in enumerate(train_loader):\n",
    "        images, labels = data\n",
    "        images = images.to(device)\n",
    "        labels = labels.to(device)\n",
    "        optimizer.zero_grad()\n",
    "        \n",
    "        result = net(images)\n",
    "        loss = criterion(result, labels)\n",
    "        loss.backward()\n",
    "        optimizer.step()\n",
    "        \n",
    "        running_loss += loss.item()\n",
    "        \n",
    "        if i%1000==0:\n",
    "            print(\"Epoch {}\\tBatch {}\\tAvg loss {}\".format(epoch, i, running_loss/1000))\n",
    "            running_loss = 0.\n",
    "            \n",
    "    "
   ]
  },
  {
   "cell_type": "code",
   "execution_count": 13,
   "metadata": {},
   "outputs": [
    {
     "output_type": "stream",
     "name": "stdout",
     "text": "Total accuracy is 96.35%\n"
    }
   ],
   "source": [
    "correct = 0\n",
    "total = 0\n",
    "\n",
    "with torch.no_grad():\n",
    "    for i, data in enumerate(test_loader):\n",
    "        images, labels = data\n",
    "        images = images.to(device)\n",
    "        labels = labels.to(device)\n",
    "        outputs = net(images)\n",
    "\n",
    "        correct += (outputs.argmax(1) == labels).sum().item()\n",
    "        total += labels.size(0)\n",
    "    \n",
    "print(\"Total accuracy is {}%\".format(round(correct/total*100, 2)))"
   ]
  },
  {
   "cell_type": "code",
   "execution_count": 14,
   "metadata": {},
   "outputs": [],
   "source": [
    "class_correct = list(0. for i in range(len(train_data.classes)))\n",
    "class_total = list(0. for i in range(len(train_data.classes)))"
   ]
  },
  {
   "cell_type": "code",
   "execution_count": 15,
   "metadata": {},
   "outputs": [
    {
     "output_type": "stream",
     "name": "stdout",
     "text": "Accuracy of     T-shirt/top : 91 %\nAccuracy of         Trouser : 99 %\nAccuracy of        Pullover : 92 %\nAccuracy of           Dress : 96 %\nAccuracy of            Coat : 92 %\nAccuracy of          Sandal : 99 %\nAccuracy of           Shirt : 94 %\nAccuracy of         Sneaker : 99 %\nAccuracy of             Bag : 99 %\nAccuracy of      Ankle boot : 98 %\n"
    }
   ],
   "source": [
    "with torch.no_grad():\n",
    "    for i, data in enumerate(test_loader):\n",
    "        images, labels = data[0].to(device), data[1].to(device)\n",
    "        outputs = net(images)\n",
    "        _, predicted = torch.max(outputs, 1)\n",
    "        c = (predicted == labels)\n",
    "        for i in range(10):\n",
    "            label = labels[i]\n",
    "            class_correct[label] += c[i].item()\n",
    "            class_total[label] += 1\n",
    "            \n",
    "for i in range(10):\n",
    "    print('Accuracy of %15s : %2d %%' % (\n",
    "        train_data.classes[i], 100 * class_correct[i] / class_total[i]))"
   ]
  }
 ],
 "metadata": {
  "kernelspec": {
   "display_name": "Python 3.8.2 64-bit ('ai': venv)",
   "language": "python",
   "name": "python38264bitaivenv5dc24fd5a8b3485483f5984308b80819"
  },
  "language_info": {
   "codemirror_mode": {
    "name": "ipython",
    "version": 3
   },
   "file_extension": ".py",
   "mimetype": "text/x-python",
   "name": "python",
   "nbconvert_exporter": "python",
   "pygments_lexer": "ipython3",
   "version": "3.8.2-final"
  }
 },
 "nbformat": 4,
 "nbformat_minor": 4
}