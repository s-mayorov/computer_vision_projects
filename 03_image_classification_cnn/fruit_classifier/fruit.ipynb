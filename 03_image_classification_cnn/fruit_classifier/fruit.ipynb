{
 "cells": [
  {
   "cell_type": "code",
   "execution_count": 1,
   "metadata": {},
   "outputs": [
    {
     "output_type": "stream",
     "name": "stdout",
     "text": "Found 41322 images belonging to 81 classes.\nFound 13877 images belonging to 81 classes.\n"
    }
   ],
   "source": [
    "from keras.preprocessing.image import ImageDataGenerator\n",
    "\n",
    "num_classes = 81\n",
    "size = 32\n",
    "batch_size = 16\n",
    "\n",
    "train_data_dir = \"./data/train\"\n",
    "test_data_dir = \"./data/validation\"\n",
    "\n",
    "train_datagen = ImageDataGenerator(\n",
    "    rescale=1./255,\n",
    "    rotation_range=30,\n",
    "    width_shift_range=0.3,\n",
    "    height_shift_range=0.3,\n",
    "    horizontal_flip=True,\n",
    "    fill_mode='nearest'\n",
    ")\n",
    "\n",
    "test_datagen = ImageDataGenerator(rescale=1./255)\n",
    "\n",
    "train_data = train_datagen.flow_from_directory(\n",
    "    train_data_dir, \n",
    "    target_size=(size,size),\n",
    "    batch_size=batch_size,\n",
    "    class_mode='categorical',\n",
    "    shuffle=True    \n",
    ")\n",
    "\n",
    "test_data = test_datagen.flow_from_directory(\n",
    "    test_data_dir,\n",
    "    target_size=(size,size),\n",
    "    batch_size=batch_size,\n",
    "    class_mode='categorical',\n",
    "    shuffle=False\n",
    ")"
   ]
  },
  {
   "cell_type": "code",
   "execution_count": 2,
   "metadata": {},
   "outputs": [
    {
     "output_type": "stream",
     "name": "stdout",
     "text": "Model: \"sequential_1\"\n_________________________________________________________________\nLayer (type)                 Output Shape              Param #   \n=================================================================\nconv2d_1 (Conv2D)            (None, 32, 32, 32)        896       \n_________________________________________________________________\nconv2d_2 (Conv2D)            (None, 30, 30, 32)        9248      \n_________________________________________________________________\nmax_pooling2d_1 (MaxPooling2 (None, 15, 15, 32)        0         \n_________________________________________________________________\ndropout_1 (Dropout)          (None, 15, 15, 32)        0         \n_________________________________________________________________\nconv2d_3 (Conv2D)            (None, 13, 13, 64)        18496     \n_________________________________________________________________\nconv2d_4 (Conv2D)            (None, 11, 11, 64)        36928     \n_________________________________________________________________\nmax_pooling2d_2 (MaxPooling2 (None, 5, 5, 64)          0         \n_________________________________________________________________\ndropout_2 (Dropout)          (None, 5, 5, 64)          0         \n_________________________________________________________________\nflatten_1 (Flatten)          (None, 1600)              0         \n_________________________________________________________________\ndense_1 (Dense)              (None, 512)               819712    \n_________________________________________________________________\ndropout_3 (Dropout)          (None, 512)               0         \n_________________________________________________________________\ndense_2 (Dense)              (None, 81)                41553     \n=================================================================\nTotal params: 926,833\nTrainable params: 926,833\nNon-trainable params: 0\n_________________________________________________________________\nNone\n"
    }
   ],
   "source": [
    "from keras.models import Sequential\n",
    "from keras.layers import Conv2D, MaxPool2D, Dense, Dropout, Flatten\n",
    "\n",
    "model = Sequential()\n",
    "model.add(Conv2D(32, (3,3), input_shape=(size,size,3), padding=\"same\", activation=\"relu\"))\n",
    "model.add(Conv2D(32, (3,3), activation=\"relu\"))\n",
    "model.add(MaxPool2D(pool_size=(2,2)))\n",
    "model.add(Dropout(rate=0.25))\n",
    "\n",
    "model.add(Conv2D(64, (3,3), activation=\"relu\"))\n",
    "model.add(Conv2D(64, (3,3), activation=\"relu\"))\n",
    "model.add(MaxPool2D(pool_size=(2,2)))\n",
    "model.add(Dropout(rate=0.25))\n",
    "\n",
    "model.add(Flatten())\n",
    "model.add(Dense(512, activation=\"relu\"))\n",
    "model.add(Dropout(rate=0.5))\n",
    "model.add(Dense(num_classes, activation=\"softmax\"))\n",
    "print(model.summary())"
   ]
  },
  {
   "cell_type": "code",
   "execution_count": 4,
   "metadata": {},
   "outputs": [
    {
     "output_type": "stream",
     "name": "stdout",
     "text": "Epoch 1/5\n2582/2582 [==============================] - 137s 53ms/step - loss: 1.8453 - accuracy: 0.4399 - val_loss: 0.0167 - val_accuracy: 0.8451\n\nEpoch 00001: val_loss improved from inf to 0.01666, saving model to ./fruits_checkpoint_v1.h5\nEpoch 2/5\n2582/2582 [==============================] - 159s 61ms/step - loss: 0.7580 - accuracy: 0.7565 - val_loss: 0.0063 - val_accuracy: 0.7718\n\nEpoch 00002: val_loss improved from 0.01666 to 0.00632, saving model to ./fruits_checkpoint_v1.h5\nEpoch 3/5\n2582/2582 [==============================] - 165s 64ms/step - loss: 0.6089 - accuracy: 0.8163 - val_loss: 6.5118e-06 - val_accuracy: 0.8963\n\nEpoch 00003: val_loss improved from 0.00632 to 0.00001, saving model to ./fruits_checkpoint_v1.h5\nEpoch 4/5\n2582/2582 [==============================] - 164s 63ms/step - loss: 0.6027 - accuracy: 0.8304 - val_loss: 0.0000e+00 - val_accuracy: 0.9202\n\nEpoch 00004: val_loss improved from 0.00001 to 0.00000, saving model to ./fruits_checkpoint_v1.h5\nEpoch 5/5\n2582/2582 [==============================] - 145s 56ms/step - loss: 0.7110 - accuracy: 0.8257 - val_loss: 0.0119 - val_accuracy: 0.9173\n\nEpoch 00005: val_loss did not improve from 0.00000\n"
    }
   ],
   "source": [
    "from keras.optimizers import RMSprop, SGD\n",
    "from keras.callbacks import ModelCheckpoint, EarlyStopping\n",
    "\n",
    "checkpoint = ModelCheckpoint(\"./fruits_checkpoint_v1.h5\",\n",
    "                             monitor=\"val_loss\",\n",
    "                             mode=\"min\",\n",
    "                             save_best_only=True,\n",
    "                             verbose=1\n",
    ")\n",
    "\n",
    "earlystop = EarlyStopping(monitor=\"val_loss\",\n",
    "                          min_delta=0,\n",
    "                          patience=3,\n",
    "                          verbose=1,\n",
    "                          restore_best_weights=True\n",
    ")\n",
    "\n",
    "callbacks = [earlystop, checkpoint]\n",
    "\n",
    "model.compile(loss=\"categorical_crossentropy\", optimizer=RMSprop(lr=0.001), metrics=['accuracy'])\n",
    "\n",
    "nb_train_samples = 41322\n",
    "nb_test_samples = 13877\n",
    "epochs = 5\n",
    "\n",
    "history = model.fit_generator(train_data, \n",
    "                              steps_per_epoch=nb_train_samples//batch_size,\n",
    "                              epochs=epochs,\n",
    "                              verbose=1,\n",
    "                              callbacks=callbacks,\n",
    "                              validation_data=test_data,\n",
    "                              validation_steps=nb_test_samples//batch_size)"
   ]
  },
  {
   "cell_type": "code",
   "execution_count": 5,
   "metadata": {},
   "outputs": [
    {
     "output_type": "stream",
     "name": "stdout",
     "text": "test loss  1.0251987987430766e-06\ntest acc 0.9174172878265381\n"
    }
   ],
   "source": [
    "score = model.evaluate_generator(test_data)\n",
    "print(\"test loss \", score[0])\n",
    "print(\"test acc\", score[1])"
   ]
  }
 ],
 "metadata": {
  "language_info": {
   "codemirror_mode": {
    "name": "ipython",
    "version": 3
   },
   "file_extension": ".py",
   "mimetype": "text/x-python",
   "name": "python",
   "nbconvert_exporter": "python",
   "pygments_lexer": "ipython3",
   "version": "3.8.2-final"
  },
  "orig_nbformat": 2,
  "kernelspec": {
   "name": "python38264bitaivenv4ccafea3a30e48ca8e165df5a9178abb",
   "display_name": "Python 3.8.2 64-bit ('ai': venv)"
  }
 },
 "nbformat": 4,
 "nbformat_minor": 2
}