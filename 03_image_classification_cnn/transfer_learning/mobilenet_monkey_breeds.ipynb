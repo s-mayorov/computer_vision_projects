{
 "cells": [
  {
   "cell_type": "code",
   "execution_count": 1,
   "metadata": {},
   "outputs": [
    {
     "output_type": "stream",
     "name": "stdout",
     "text": "[PhysicalDevice(name='/physical_device:GPU:0', device_type='GPU')]\n1 Physical GPUs, 1 Logical GPUs\n"
    }
   ],
   "source": [
    "import tensorflow as tf\n",
    "gpus = tf.config.experimental.list_physical_devices('GPU')\n",
    "print(gpus)\n",
    "if gpus:\n",
    "  try:\n",
    "    # Currently, memory growth needs to be the same across GPUs\n",
    "    for gpu in gpus:\n",
    "      tf.config.experimental.set_memory_growth(gpu, True)\n",
    "    logical_gpus = tf.config.experimental.list_logical_devices('GPU')\n",
    "    print(len(gpus), \"Physical GPUs,\", len(logical_gpus), \"Logical GPUs\")\n",
    "  except RuntimeError as e:\n",
    "    # Memory growth must be set before GPUs have been initialized\n",
    "    print(e)\n"
   ]
  },
  {
   "cell_type": "code",
   "execution_count": 2,
   "metadata": {},
   "outputs": [
    {
     "output_type": "stream",
     "name": "stderr",
     "text": "Using TensorFlow backend.\n0\tInputLayer        \tFalse\n1\tZeroPadding2D     \tFalse\n2\tConv2D            \tFalse\n3\tBatchNormalization\tFalse\n4\tReLU              \tFalse\n5\tDepthwiseConv2D   \tFalse\n6\tBatchNormalization\tFalse\n7\tReLU              \tFalse\n8\tConv2D            \tFalse\n9\tBatchNormalization\tFalse\n10\tReLU              \tFalse\n11\tZeroPadding2D     \tFalse\n12\tDepthwiseConv2D   \tFalse\n13\tBatchNormalization\tFalse\n14\tReLU              \tFalse\n15\tConv2D            \tFalse\n16\tBatchNormalization\tFalse\n17\tReLU              \tFalse\n18\tDepthwiseConv2D   \tFalse\n19\tBatchNormalization\tFalse\n20\tReLU              \tFalse\n21\tConv2D            \tFalse\n22\tBatchNormalization\tFalse\n23\tReLU              \tFalse\n24\tZeroPadding2D     \tFalse\n25\tDepthwiseConv2D   \tFalse\n26\tBatchNormalization\tFalse\n27\tReLU              \tFalse\n28\tConv2D            \tFalse\n29\tBatchNormalization\tFalse\n30\tReLU              \tFalse\n31\tDepthwiseConv2D   \tFalse\n32\tBatchNormalization\tFalse\n33\tReLU              \tFalse\n34\tConv2D            \tFalse\n35\tBatchNormalization\tFalse\n36\tReLU              \tFalse\n37\tZeroPadding2D     \tFalse\n38\tDepthwiseConv2D   \tFalse\n39\tBatchNormalization\tFalse\n40\tReLU              \tFalse\n41\tConv2D            \tFalse\n42\tBatchNormalization\tFalse\n43\tReLU              \tFalse\n44\tDepthwiseConv2D   \tFalse\n45\tBatchNormalization\tFalse\n46\tReLU              \tFalse\n47\tConv2D            \tFalse\n48\tBatchNormalization\tFalse\n49\tReLU              \tFalse\n50\tDepthwiseConv2D   \tFalse\n51\tBatchNormalization\tFalse\n52\tReLU              \tFalse\n53\tConv2D            \tFalse\n54\tBatchNormalization\tFalse\n55\tReLU              \tFalse\n56\tDepthwiseConv2D   \tFalse\n57\tBatchNormalization\tFalse\n58\tReLU              \tFalse\n59\tConv2D            \tFalse\n60\tBatchNormalization\tFalse\n61\tReLU              \tFalse\n62\tDepthwiseConv2D   \tFalse\n63\tBatchNormalization\tFalse\n64\tReLU              \tFalse\n65\tConv2D            \tFalse\n66\tBatchNormalization\tFalse\n67\tReLU              \tFalse\n68\tDepthwiseConv2D   \tFalse\n69\tBatchNormalization\tFalse\n70\tReLU              \tFalse\n71\tConv2D            \tFalse\n72\tBatchNormalization\tFalse\n73\tReLU              \tFalse\n74\tZeroPadding2D     \tFalse\n75\tDepthwiseConv2D   \tFalse\n76\tBatchNormalization\tFalse\n77\tReLU              \tFalse\n78\tConv2D            \tFalse\n79\tBatchNormalization\tFalse\n80\tReLU              \tFalse\n81\tDepthwiseConv2D   \tFalse\n82\tBatchNormalization\tFalse\n83\tReLU              \tFalse\n84\tConv2D            \tFalse\n85\tBatchNormalization\tFalse\n86\tReLU              \tFalse\n"
    }
   ],
   "source": [
    "from keras.applications import MobileNet\n",
    "\n",
    "size = 224\n",
    "\n",
    "mobile_net = MobileNet(weights=\"imagenet\", include_top=False, input_shape=(size, size, 3))\n",
    "\n",
    "for layer in mobile_net.layers:\n",
    "    layer.trainable = False\n",
    "\n",
    "for i, layer in enumerate(mobile_net.layers):\n",
    "    print(\"{}\\t{:18}\\t{!s}\".format(i, layer.__class__.__name__, layer.trainable))"
   ]
  },
  {
   "cell_type": "code",
   "execution_count": 3,
   "metadata": {},
   "outputs": [
    {
     "output_type": "stream",
     "name": "stdout",
     "text": "Model: \"model_1\"\n_________________________________________________________________\nLayer (type)                 Output Shape              Param #   \n=================================================================\ninput_1 (InputLayer)         (None, 224, 224, 3)       0         \n_________________________________________________________________\nconv1_pad (ZeroPadding2D)    (None, 225, 225, 3)       0         \n_________________________________________________________________\nconv1 (Conv2D)               (None, 112, 112, 32)      864       \n_________________________________________________________________\nconv1_bn (BatchNormalization (None, 112, 112, 32)      128       \n_________________________________________________________________\nconv1_relu (ReLU)            (None, 112, 112, 32)      0         \n_________________________________________________________________\nconv_dw_1 (DepthwiseConv2D)  (None, 112, 112, 32)      288       \n_________________________________________________________________\nconv_dw_1_bn (BatchNormaliza (None, 112, 112, 32)      128       \n_________________________________________________________________\nconv_dw_1_relu (ReLU)        (None, 112, 112, 32)      0         \n_________________________________________________________________\nconv_pw_1 (Conv2D)           (None, 112, 112, 64)      2048      \n_________________________________________________________________\nconv_pw_1_bn (BatchNormaliza (None, 112, 112, 64)      256       \n_________________________________________________________________\nconv_pw_1_relu (ReLU)        (None, 112, 112, 64)      0         \n_________________________________________________________________\nconv_pad_2 (ZeroPadding2D)   (None, 113, 113, 64)      0         \n_________________________________________________________________\nconv_dw_2 (DepthwiseConv2D)  (None, 56, 56, 64)        576       \n_________________________________________________________________\nconv_dw_2_bn (BatchNormaliza (None, 56, 56, 64)        256       \n_________________________________________________________________\nconv_dw_2_relu (ReLU)        (None, 56, 56, 64)        0         \n_________________________________________________________________\nconv_pw_2 (Conv2D)           (None, 56, 56, 128)       8192      \n_________________________________________________________________\nconv_pw_2_bn (BatchNormaliza (None, 56, 56, 128)       512       \n_________________________________________________________________\nconv_pw_2_relu (ReLU)        (None, 56, 56, 128)       0         \n_________________________________________________________________\nconv_dw_3 (DepthwiseConv2D)  (None, 56, 56, 128)       1152      \n_________________________________________________________________\nconv_dw_3_bn (BatchNormaliza (None, 56, 56, 128)       512       \n_________________________________________________________________\nconv_dw_3_relu (ReLU)        (None, 56, 56, 128)       0         \n_________________________________________________________________\nconv_pw_3 (Conv2D)           (None, 56, 56, 128)       16384     \n_________________________________________________________________\nconv_pw_3_bn (BatchNormaliza (None, 56, 56, 128)       512       \n_________________________________________________________________\nconv_pw_3_relu (ReLU)        (None, 56, 56, 128)       0         \n_________________________________________________________________\nconv_pad_4 (ZeroPadding2D)   (None, 57, 57, 128)       0         \n_________________________________________________________________\nconv_dw_4 (DepthwiseConv2D)  (None, 28, 28, 128)       1152      \n_________________________________________________________________\nconv_dw_4_bn (BatchNormaliza (None, 28, 28, 128)       512       \n_________________________________________________________________\nconv_dw_4_relu (ReLU)        (None, 28, 28, 128)       0         \n_________________________________________________________________\nconv_pw_4 (Conv2D)           (None, 28, 28, 256)       32768     \n_________________________________________________________________\nconv_pw_4_bn (BatchNormaliza (None, 28, 28, 256)       1024      \n_________________________________________________________________\nconv_pw_4_relu (ReLU)        (None, 28, 28, 256)       0         \n_________________________________________________________________\nconv_dw_5 (DepthwiseConv2D)  (None, 28, 28, 256)       2304      \n_________________________________________________________________\nconv_dw_5_bn (BatchNormaliza (None, 28, 28, 256)       1024      \n_________________________________________________________________\nconv_dw_5_relu (ReLU)        (None, 28, 28, 256)       0         \n_________________________________________________________________\nconv_pw_5 (Conv2D)           (None, 28, 28, 256)       65536     \n_________________________________________________________________\nconv_pw_5_bn (BatchNormaliza (None, 28, 28, 256)       1024      \n_________________________________________________________________\nconv_pw_5_relu (ReLU)        (None, 28, 28, 256)       0         \n_________________________________________________________________\nconv_pad_6 (ZeroPadding2D)   (None, 29, 29, 256)       0         \n_________________________________________________________________\nconv_dw_6 (DepthwiseConv2D)  (None, 14, 14, 256)       2304      \n_________________________________________________________________\nconv_dw_6_bn (BatchNormaliza (None, 14, 14, 256)       1024      \n_________________________________________________________________\nconv_dw_6_relu (ReLU)        (None, 14, 14, 256)       0         \n_________________________________________________________________\nconv_pw_6 (Conv2D)           (None, 14, 14, 512)       131072    \n_________________________________________________________________\nconv_pw_6_bn (BatchNormaliza (None, 14, 14, 512)       2048      \n_________________________________________________________________\nconv_pw_6_relu (ReLU)        (None, 14, 14, 512)       0         \n_________________________________________________________________\nconv_dw_7 (DepthwiseConv2D)  (None, 14, 14, 512)       4608      \n_________________________________________________________________\nconv_dw_7_bn (BatchNormaliza (None, 14, 14, 512)       2048      \n_________________________________________________________________\nconv_dw_7_relu (ReLU)        (None, 14, 14, 512)       0         \n_________________________________________________________________\nconv_pw_7 (Conv2D)           (None, 14, 14, 512)       262144    \n_________________________________________________________________\nconv_pw_7_bn (BatchNormaliza (None, 14, 14, 512)       2048      \n_________________________________________________________________\nconv_pw_7_relu (ReLU)        (None, 14, 14, 512)       0         \n_________________________________________________________________\nconv_dw_8 (DepthwiseConv2D)  (None, 14, 14, 512)       4608      \n_________________________________________________________________\nconv_dw_8_bn (BatchNormaliza (None, 14, 14, 512)       2048      \n_________________________________________________________________\nconv_dw_8_relu (ReLU)        (None, 14, 14, 512)       0         \n_________________________________________________________________\nconv_pw_8 (Conv2D)           (None, 14, 14, 512)       262144    \n_________________________________________________________________\nconv_pw_8_bn (BatchNormaliza (None, 14, 14, 512)       2048      \n_________________________________________________________________\nconv_pw_8_relu (ReLU)        (None, 14, 14, 512)       0         \n_________________________________________________________________\nconv_dw_9 (DepthwiseConv2D)  (None, 14, 14, 512)       4608      \n_________________________________________________________________\nconv_dw_9_bn (BatchNormaliza (None, 14, 14, 512)       2048      \n_________________________________________________________________\nconv_dw_9_relu (ReLU)        (None, 14, 14, 512)       0         \n_________________________________________________________________\nconv_pw_9 (Conv2D)           (None, 14, 14, 512)       262144    \n_________________________________________________________________\nconv_pw_9_bn (BatchNormaliza (None, 14, 14, 512)       2048      \n_________________________________________________________________\nconv_pw_9_relu (ReLU)        (None, 14, 14, 512)       0         \n_________________________________________________________________\nconv_dw_10 (DepthwiseConv2D) (None, 14, 14, 512)       4608      \n_________________________________________________________________\nconv_dw_10_bn (BatchNormaliz (None, 14, 14, 512)       2048      \n_________________________________________________________________\nconv_dw_10_relu (ReLU)       (None, 14, 14, 512)       0         \n_________________________________________________________________\nconv_pw_10 (Conv2D)          (None, 14, 14, 512)       262144    \n_________________________________________________________________\nconv_pw_10_bn (BatchNormaliz (None, 14, 14, 512)       2048      \n_________________________________________________________________\nconv_pw_10_relu (ReLU)       (None, 14, 14, 512)       0         \n_________________________________________________________________\nconv_dw_11 (DepthwiseConv2D) (None, 14, 14, 512)       4608      \n_________________________________________________________________\nconv_dw_11_bn (BatchNormaliz (None, 14, 14, 512)       2048      \n_________________________________________________________________\nconv_dw_11_relu (ReLU)       (None, 14, 14, 512)       0         \n_________________________________________________________________\nconv_pw_11 (Conv2D)          (None, 14, 14, 512)       262144    \n_________________________________________________________________\nconv_pw_11_bn (BatchNormaliz (None, 14, 14, 512)       2048      \n_________________________________________________________________\nconv_pw_11_relu (ReLU)       (None, 14, 14, 512)       0         \n_________________________________________________________________\nconv_pad_12 (ZeroPadding2D)  (None, 15, 15, 512)       0         \n_________________________________________________________________\nconv_dw_12 (DepthwiseConv2D) (None, 7, 7, 512)         4608      \n_________________________________________________________________\nconv_dw_12_bn (BatchNormaliz (None, 7, 7, 512)         2048      \n_________________________________________________________________\nconv_dw_12_relu (ReLU)       (None, 7, 7, 512)         0         \n_________________________________________________________________\nconv_pw_12 (Conv2D)          (None, 7, 7, 1024)        524288    \n_________________________________________________________________\nconv_pw_12_bn (BatchNormaliz (None, 7, 7, 1024)        4096      \n_________________________________________________________________\nconv_pw_12_relu (ReLU)       (None, 7, 7, 1024)        0         \n_________________________________________________________________\nconv_dw_13 (DepthwiseConv2D) (None, 7, 7, 1024)        9216      \n_________________________________________________________________\nconv_dw_13_bn (BatchNormaliz (None, 7, 7, 1024)        4096      \n_________________________________________________________________\nconv_dw_13_relu (ReLU)       (None, 7, 7, 1024)        0         \n_________________________________________________________________\nconv_pw_13 (Conv2D)          (None, 7, 7, 1024)        1048576   \n_________________________________________________________________\nconv_pw_13_bn (BatchNormaliz (None, 7, 7, 1024)        4096      \n_________________________________________________________________\nconv_pw_13_relu (ReLU)       (None, 7, 7, 1024)        0         \n_________________________________________________________________\nglobal_average_pooling2d_1 ( (None, 1024)              0         \n_________________________________________________________________\ndense_1 (Dense)              (None, 1024)              1049600   \n_________________________________________________________________\ndense_2 (Dense)              (None, 1024)              1049600   \n_________________________________________________________________\ndense_3 (Dense)              (None, 512)               524800    \n_________________________________________________________________\ndense_4 (Dense)              (None, 10)                5130      \n=================================================================\nTotal params: 5,857,994\nTrainable params: 2,629,130\nNon-trainable params: 3,228,864\n_________________________________________________________________\nNone\n"
    }
   ],
   "source": [
    "from keras.layers import GlobalAveragePooling2D, Dense\n",
    "from keras.models import Model\n",
    "\n",
    "full_model = mobile_net.output\n",
    "full_model = GlobalAveragePooling2D()(full_model)\n",
    "full_model = Dense(1024, activation=\"relu\")(full_model)\n",
    "full_model = Dense(1024, activation=\"relu\")(full_model)\n",
    "full_model = Dense(512, activation=\"relu\")(full_model)\n",
    "# total classes 10\n",
    "full_model = Dense(10, activation=\"softmax\")(full_model)\n",
    "\n",
    "model = Model(inputs=mobile_net.inputs, outputs=full_model)\n",
    "\n",
    "print(model.summary())"
   ]
  },
  {
   "cell_type": "code",
   "execution_count": 4,
   "metadata": {},
   "outputs": [
    {
     "output_type": "stream",
     "name": "stdout",
     "text": "Found 1098 images belonging to 10 classes.\nFound 272 images belonging to 10 classes.\n"
    }
   ],
   "source": [
    "from keras.preprocessing.image import ImageDataGenerator\n",
    "\n",
    "train_data_dir = \"./data/monkeys/train\"\n",
    "test_data_dir = \"./data/monkeys/validation\"\n",
    "\n",
    "train_datagen = ImageDataGenerator(\n",
    "    rescale=1./255,\n",
    "    rotation_range=45,\n",
    "    width_shift_range=0.3,\n",
    "    height_shift_range=0.3,\n",
    "    horizontal_flip=True,\n",
    "    fill_mode=\"nearest\"\n",
    ")\n",
    "\n",
    "test_datagen = ImageDataGenerator(rescale=1./255)\n",
    "\n",
    "batch_size = 32\n",
    "\n",
    "train_generator = train_datagen.flow_from_directory(\n",
    "    train_data_dir,\n",
    "    target_size=(size, size),\n",
    "    batch_size=batch_size,\n",
    "    class_mode=\"categorical\"\n",
    ")\n",
    "\n",
    "test_generator = test_datagen.flow_from_directory(\n",
    "    test_data_dir,\n",
    "    target_size=(size,size),\n",
    "    batch_size=batch_size,\n",
    "    class_mode=\"categorical\"\n",
    ")"
   ]
  },
  {
   "cell_type": "code",
   "execution_count": 5,
   "metadata": {},
   "outputs": [
    {
     "output_type": "stream",
     "name": "stdout",
     "text": "Epoch 1/5\n68/68 [==============================] - 65s 963ms/step - loss: 1.9140 - accuracy: 0.4719 - val_loss: 0.4457 - val_accuracy: 0.8182\n\nEpoch 00001: val_loss improved from inf to 0.44575, saving model to ./monkey_breed_v1.h5\nEpoch 2/5\n68/68 [==============================] - 63s 933ms/step - loss: 0.7212 - accuracy: 0.7725 - val_loss: 0.5655 - val_accuracy: 0.8516\n\nEpoch 00002: val_loss did not improve from 0.44575\nEpoch 3/5\n68/68 [==============================] - 62s 910ms/step - loss: 0.5629 - accuracy: 0.8368 - val_loss: 0.2742 - val_accuracy: 0.7988\n\nEpoch 00003: val_loss improved from 0.44575 to 0.27421, saving model to ./monkey_breed_v1.h5\nEpoch 4/5\n68/68 [==============================] - 59s 867ms/step - loss: 0.4078 - accuracy: 0.8804 - val_loss: 0.0736 - val_accuracy: 0.9219\n\nEpoch 00004: val_loss improved from 0.27421 to 0.07364, saving model to ./monkey_breed_v1.h5\nEpoch 5/5\n68/68 [==============================] - 56s 824ms/step - loss: 0.3888 - accuracy: 0.8914 - val_loss: 1.7800 - val_accuracy: 0.7695\n\nEpoch 00005: val_loss did not improve from 0.07364\n"
    }
   ],
   "source": [
    "from keras.optimizers import RMSprop\n",
    "from keras.callbacks import ModelCheckpoint, EarlyStopping\n",
    "\n",
    "checkpoint = ModelCheckpoint(\"./monkey_breed_v1.h5\", monitor=\"val_loss\", mode=\"min\", save_best_only=True,verbose=1)\n",
    "\n",
    "earlystop = EarlyStopping(monitor=\"val_loss\", min_delta=0, patience=3, verbose=1, restore_best_weights=True)\n",
    "\n",
    "callbacks = [checkpoint, earlystop]\n",
    "\n",
    "model.compile(loss=\"categorical_crossentropy\", optimizer=RMSprop(lr=0.001), metrics=[\"accuracy\"])\n",
    "\n",
    "nb_train = 1098\n",
    "nb_test = 272\n",
    "epochs = 5\n",
    "batch_size = 16\n",
    "\n",
    "history = model.fit_generator(\n",
    "    train_generator, \n",
    "    steps_per_epoch=nb_train//batch_size,\n",
    "    epochs=epochs,\n",
    "    callbacks=callbacks,\n",
    "    validation_data=test_generator,\n",
    "    validation_steps=nb_test//batch_size\n",
    ")"
   ]
  },
  {
   "cell_type": "code",
   "execution_count": null,
   "metadata": {},
   "outputs": [],
   "source": []
  }
 ],
 "metadata": {
  "language_info": {
   "codemirror_mode": {
    "name": "ipython",
    "version": 3
   },
   "file_extension": ".py",
   "mimetype": "text/x-python",
   "name": "python",
   "nbconvert_exporter": "python",
   "pygments_lexer": "ipython3",
   "version": "3.6.10-final"
  },
  "orig_nbformat": 2,
  "kernelspec": {
   "name": "python38264bitaivenv4ccafea3a30e48ca8e165df5a9178abb",
   "display_name": "Python 3.8.2 64-bit ('ai': venv)"
  }
 },
 "nbformat": 4,
 "nbformat_minor": 2
}